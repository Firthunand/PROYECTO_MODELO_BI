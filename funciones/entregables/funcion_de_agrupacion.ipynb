{
 "cells": [
  {
   "cell_type": "markdown",
   "id": "98fdcfd4",
   "metadata": {},
   "source": [
    "### funcion de agrupacion (group by)\n",
    "Esta funcion recibe como parametros un dataframe y un diccionario anidado con el nombre de la columna resultado de la agrupacion (como clave) y como valor otro diccionario que tiene como primer elemento la clave tipo y como valor el tipo de agrupacion y como segundo argumento la clave columna y como valor el nombre de la columna que se quiere agrupar , esta funcion retorna un nuevo dataframe con el resultado de la agrupacion."
   ]
  },
  {
   "cell_type": "code",
   "execution_count": null,
   "id": "301cd664",
   "metadata": {},
   "outputs": [],
   "source": [
    "def group_df(dataframe, aggregation_dictionary, group_by_columns):\n",
    "    aggregation_expressions = []\n",
    "    for column_name, aggregation_info in aggregation_dictionary.items():\n",
    "        aggregation_type = aggregation_info['type']\n",
    "        column_to_aggregate = aggregation_info['column']\n",
    "        if aggregation_type == 'count':\n",
    "            aggregation_expressions.append(F.count(column_to_aggregate).alias(column_name))\n",
    "        elif aggregation_type == 'sum':\n",
    "            aggregation_expressions.append(F.sum(column_to_aggregate).alias(column_name))\n",
    "    grouped_df = dataframe.groupBy(*group_by_columns).agg(*aggregation_expressions)\n",
    "    return grouped_df"
   ]
  },
  {
   "cell_type": "code",
   "execution_count": null,
   "id": "a56acf95",
   "metadata": {},
   "outputs": [],
   "source": [
    "from pyspark.sql import SparkSession\n",
    "import pyspark.sql.functions as F\n",
    "\n",
    "# SparkSession\n",
    "spark = SparkSession.builder \\\n",
    "    .appName(\"Ejemplo PySpark\") \\\n",
    "    .getOrCreate()\n",
    "\n",
    "# DataFrame de ejemplo con las columnas solicitadas\n",
    "datos = [(\"1\", \"Cliente1\", 100, 5),\n",
    "         (\"2\", \"Cliente2\", 200, 3),\n",
    "         (\"1\", \"Cliente1\", 300, 7),\n",
    "         (\"2\", \"Cliente2\", 400, 4),\n",
    "         (\"2\", \"Cliente2\", 500, 2)]\n",
    "df = spark.createDataFrame(datos, [\"idcliente\", \"nombre_cliente\", \"monto\", \"cantidadProductos\"])\n",
    "\n",
    "# Mostrar el DataFrame original\n",
    "print(\"DataFrame original:\")\n",
    "df.show()\n",
    "\n",
    "# Definir un diccionario de agrupación de ejemplo\n",
    "diccionario_agrupacion = {\n",
    "    \"suma_monto\": {\n",
    "        \"type\": \"sum\",\n",
    "        \"column\": \"monto\"\n",
    "    },\n",
    "    \"suma_cantidad_productos\": {\n",
    "        \"type\": \"sum\",\n",
    "        \"column\": \"cantidadProductos\"\n",
    "    }\n",
    "}\n",
    "# Probar la función agrupando el DataFrame por la columna segun la lista pasada como parametro\n",
    "# con el diccionario de agrupación\n",
    "df_agrupado = group_df(df, diccionario_agrupacion, [\"idcliente\"])\n",
    "\n",
    "# Mostrar el DataFrame agrupado\n",
    "print(\"DataFrame agrupado por cliente:\")\n",
    "df_agrupado.show()\n"
   ]
  }
 ],
 "metadata": {
  "kernelspec": {
   "display_name": "Python 3 (ipykernel)",
   "language": "python",
   "name": "python3"
  },
  "language_info": {
   "codemirror_mode": {
    "name": "ipython",
    "version": 3
   },
   "file_extension": ".py",
   "mimetype": "text/x-python",
   "name": "python",
   "nbconvert_exporter": "python",
   "pygments_lexer": "ipython3",
   "version": "3.10.12"
  }
 },
 "nbformat": 4,
 "nbformat_minor": 5
}
