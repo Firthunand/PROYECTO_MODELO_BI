{
 "cells": [
  {
   "cell_type": "code",
   "execution_count": null,
   "id": "2b18bbc6-6f76-41ff-9064-3276e8eff87d",
   "metadata": {},
   "outputs": [],
   "source": [
    "# conda install -c conda-forge findspark"
   ]
  },
  {
   "cell_type": "code",
   "execution_count": 1,
   "id": "6c14bde4-f85e-4854-91fd-e31ff5d53977",
   "metadata": {},
   "outputs": [
    {
     "name": "stderr",
     "output_type": "stream",
     "text": [
      "24/02/23 13:01:04 WARN Utils: Your hostname, merlin-ThinkPad-T470-W10DG resolves to a loopback address: 127.0.1.1; using 192.168.0.9 instead (on interface wlp4s0)\n",
      "24/02/23 13:01:04 WARN Utils: Set SPARK_LOCAL_IP if you need to bind to another address\n",
      "Setting default log level to \"WARN\".\n",
      "To adjust logging level use sc.setLogLevel(newLevel). For SparkR, use setLogLevel(newLevel).\n",
      "24/02/23 13:01:06 WARN NativeCodeLoader: Unable to load native-hadoop library for your platform... using builtin-java classes where applicable\n"
     ]
    }
   ],
   "source": [
    "# creamos una sesion de spark\n",
    "import findspark\n",
    "findspark.init()\n",
    "\n",
    "from pyspark.sql import SparkSession\n",
    "\n",
    "spark = SparkSession.builder.getOrCreate()"
   ]
  },
  {
   "cell_type": "code",
   "execution_count": 2,
   "id": "c48b0cd2-9e22-4fd2-996b-af014a3f5bec",
   "metadata": {},
   "outputs": [
    {
     "data": {
      "text/html": [
       "\n",
       "            <div>\n",
       "                <p><b>SparkSession - in-memory</b></p>\n",
       "                \n",
       "        <div>\n",
       "            <p><b>SparkContext</b></p>\n",
       "\n",
       "            <p><a href=\"http://192.168.0.9:4040\">Spark UI</a></p>\n",
       "\n",
       "            <dl>\n",
       "              <dt>Version</dt>\n",
       "                <dd><code>v3.5.0</code></dd>\n",
       "              <dt>Master</dt>\n",
       "                <dd><code>local[*]</code></dd>\n",
       "              <dt>AppName</dt>\n",
       "                <dd><code>pyspark-shell</code></dd>\n",
       "            </dl>\n",
       "        </div>\n",
       "        \n",
       "            </div>\n",
       "        "
      ],
      "text/plain": [
       "<pyspark.sql.session.SparkSession at 0x7f5443f33370>"
      ]
     },
     "execution_count": 2,
     "metadata": {},
     "output_type": "execute_result"
    }
   ],
   "source": [
    "spark"
   ]
  },
  {
   "cell_type": "markdown",
   "id": "605207c7",
   "metadata": {},
   "source": [
    "#### CREACION DE LA DIM-DATE PARA EL MODELO"
   ]
  },
  {
   "cell_type": "markdown",
   "id": "01d5cc77",
   "metadata": {},
   "source": [
    "#### Como se calcula el domingo de resurreccion con gauss"
   ]
  },
  {
   "cell_type": "code",
   "execution_count": 16,
   "id": "01d7cb2d",
   "metadata": {},
   "outputs": [
    {
     "name": "stdout",
     "output_type": "stream",
     "text": [
      "29\n"
     ]
    }
   ],
   "source": [
    "anio = 2024\n",
    "a = anio % 19\n",
    "b = anio % 4\n",
    "c = anio % 7\n",
    "d = (19*a + 24)%30\n",
    "e = (2*b + 4*c + 6*d + 5)%7\n",
    "\n",
    "dom_resurreccion = (22 + ((19*(anio%19)+24)%30) + ((2*(anio%4)+4*(anio%7)+6*((19*(anio%19)+24)%30)+5)%7))-2\n",
    "if dom_resurreccion >31 :\n",
    "    dom_resurreccion = (d + e -9)-2\n",
    "\n",
    "print(dom_resurreccion)"
   ]
  }
 ],
 "metadata": {
  "kernelspec": {
   "display_name": "Python 3 (ipykernel)",
   "language": "python",
   "name": "python3"
  },
  "language_info": {
   "codemirror_mode": {
    "name": "ipython",
    "version": 3
   },
   "file_extension": ".py",
   "mimetype": "text/x-python",
   "name": "python",
   "nbconvert_exporter": "python",
   "pygments_lexer": "ipython3",
   "version": "3.10.12"
  }
 },
 "nbformat": 4,
 "nbformat_minor": 5
}
