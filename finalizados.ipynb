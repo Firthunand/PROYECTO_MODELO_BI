{
 "cells": [
  {
   "cell_type": "code",
   "execution_count": null,
   "id": "2b18bbc6-6f76-41ff-9064-3276e8eff87d",
   "metadata": {},
   "outputs": [],
   "source": [
    "# conda install -c conda-forge findspark"
   ]
  },
  {
   "cell_type": "markdown",
   "id": "9427364a",
   "metadata": {},
   "source": [
    "### De aqui en adelante esta el codigo para las funciones solicitadas"
   ]
  },
  {
   "cell_type": "markdown",
   "id": "d1cb986e",
   "metadata": {},
   "source": [
    "## Funcion de agrupacion (group-by)\n",
    "Esta funcion recibe como parametros un dataframe y un diccionario anidado con el nombre de la columna resultado de la agrupacion (como clave) y como valor otro diccionario que tiene como primer elemento la clave tipo y como valor el tipo de agrupacion y como segundo argumento la clave columna y como valor el nombre de la columna que se quiere agrupar , esta funcion retorna un nuevo dataframe con el resultado de la agrupacion."
   ]
  },
  {
   "cell_type": "code",
   "execution_count": 2,
   "id": "6fdcb012",
   "metadata": {},
   "outputs": [],
   "source": [
    "# Definir la función para agrupar el DataFrame por cliente\n",
    "def group_df(dataframe, diccionario_agrupacion, group_by_columns):# se recibe un tercer parametro(lista) para saber por cuales columnas agrupar\n",
    "    expresiones_agrupacion = []\n",
    "    for nombre_columna, info_agrupacion in diccionario_agrupacion.items():\n",
    "        \n",
    "        tipo_agrupacion = info_agrupacion['type']\n",
    "        columna_agrupacion = info_agrupacion['column']\n",
    "        if tipo_agrupacion == 'count':\n",
    "            expresiones_agrupacion.append(F.count(columna_agrupacion).alias(nombre_columna))\n",
    "        elif tipo_agrupacion == 'sum':\n",
    "            expresiones_agrupacion.append(F.sum(columna_agrupacion).alias(nombre_columna))\n",
    "            \n",
    "    dataframe_agrupado = dataframe.groupBy(*group_by_columns).agg(*expresiones_agrupacion)\n",
    "    return dataframe_agrupado\n",
    "\n"
   ]
  },
  {
   "cell_type": "code",
   "execution_count": 3,
   "id": "1bfd1789",
   "metadata": {},
   "outputs": [
    {
     "name": "stderr",
     "output_type": "stream",
     "text": [
      "24/02/22 22:55:51 WARN Utils: Your hostname, merlin-ThinkPad-T470-W10DG resolves to a loopback address: 127.0.1.1; using 192.168.0.9 instead (on interface wlp4s0)\n",
      "24/02/22 22:55:51 WARN Utils: Set SPARK_LOCAL_IP if you need to bind to another address\n",
      "Setting default log level to \"WARN\".\n",
      "To adjust logging level use sc.setLogLevel(newLevel). For SparkR, use setLogLevel(newLevel).\n",
      "24/02/22 22:55:52 WARN NativeCodeLoader: Unable to load native-hadoop library for your platform... using builtin-java classes where applicable\n"
     ]
    },
    {
     "name": "stdout",
     "output_type": "stream",
     "text": [
      "DataFrame original:\n"
     ]
    },
    {
     "name": "stderr",
     "output_type": "stream",
     "text": [
      "                                                                                \r"
     ]
    },
    {
     "name": "stdout",
     "output_type": "stream",
     "text": [
      "+---------+--------------+-----+-----------------+\n",
      "|idcliente|nombre_cliente|monto|cantidadProductos|\n",
      "+---------+--------------+-----+-----------------+\n",
      "|        1|      Cliente1|  100|                5|\n",
      "|        2|      Cliente2|  200|                3|\n",
      "|        1|      Cliente1|  300|                7|\n",
      "|        2|      Cliente2|  400|                4|\n",
      "|        2|      Cliente2|  500|                2|\n",
      "+---------+--------------+-----+-----------------+\n",
      "\n",
      "DataFrame agrupado por cliente:\n"
     ]
    },
    {
     "name": "stderr",
     "output_type": "stream",
     "text": [
      "[Stage 2:>                                                          (0 + 4) / 4]\r"
     ]
    },
    {
     "name": "stdout",
     "output_type": "stream",
     "text": [
      "+--------------+----------+-----------------------+\n",
      "|nombre_cliente|suma_monto|suma_cantidad_productos|\n",
      "+--------------+----------+-----------------------+\n",
      "|      Cliente1|       400|                     12|\n",
      "|      Cliente2|      1100|                      9|\n",
      "+--------------+----------+-----------------------+\n",
      "\n"
     ]
    },
    {
     "name": "stderr",
     "output_type": "stream",
     "text": [
      "                                                                                \r"
     ]
    },
    {
     "name": "stderr",
     "output_type": "stream",
     "text": [
      "24/02/22 22:56:06 WARN GarbageCollectionMetrics: To enable non-built-in garbage collector(s) List(G1 Concurrent GC), users should configure it(them) to spark.eventLog.gcMetrics.youngGenerationGarbageCollectors or spark.eventLog.gcMetrics.oldGenerationGarbageCollectors\n"
     ]
    }
   ],
   "source": [
    "from pyspark.sql import SparkSession\n",
    "import pyspark.sql.functions as F\n",
    "\n",
    "# SparkSession\n",
    "spark = SparkSession.builder \\\n",
    "    .appName(\"Ejemplo PySpark\") \\\n",
    "    .getOrCreate()\n",
    "\n",
    "# DataFrame de ejemplo \n",
    "datos = [(\"1\", \"Cliente1\", 100, 5),\n",
    "         (\"2\", \"Cliente2\", 200, 3),\n",
    "         (\"1\", \"Cliente1\", 300, 7),\n",
    "         (\"2\", \"Cliente2\", 400, 4),\n",
    "         (\"2\", \"Cliente2\", 500, 2)]\n",
    "df = spark.createDataFrame(datos, [\"idcliente\", \"nombre_cliente\", \"monto\", \"cantidadProductos\"])\n",
    "\n",
    "# para ver el DataFrame original\n",
    "print(\"DataFrame original:\")\n",
    "df.show()\n",
    "\n",
    "# diccionario de agrupación ejemplo\n",
    "diccionario_agrupacion = {\n",
    "    \"suma_monto\": {\n",
    "        \"type\": \"sum\",\n",
    "        \"column\": \"monto\"\n",
    "    },\n",
    "    \"suma_cantidad_productos\": {\n",
    "        \"type\": \"sum\",\n",
    "        \"column\": \"cantidadProductos\"\n",
    "    }\n",
    "}\n",
    "# Probar la función agrupando el DataFrame por la columna segun la lista pasada como parametro\n",
    "# con el diccionario de agrupación\n",
    "df_agrupado = group_df(df, diccionario_agrupacion, [\"nombre_cliente\"])\n",
    "\n",
    "# Mostrar el DataFrame agrupado\n",
    "print(\"DataFrame agrupado por cliente:\")\n",
    "df_agrupado.show()"
   ]
  }
 ],
 "metadata": {
  "kernelspec": {
   "display_name": "Python 3 (ipykernel)",
   "language": "python",
   "name": "python3"
  },
  "language_info": {
   "codemirror_mode": {
    "name": "ipython",
    "version": 3
   },
   "file_extension": ".py",
   "mimetype": "text/x-python",
   "name": "python",
   "nbconvert_exporter": "python",
   "pygments_lexer": "ipython3",
   "version": "3.10.12"
  }
 },
 "nbformat": 4,
 "nbformat_minor": 5
}
